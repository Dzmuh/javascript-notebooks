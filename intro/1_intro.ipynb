{
 "cells": [
  {
   "cell_type": "markdown",
   "metadata": {},
   "source": [
    "# Введение в JavaScript\n",
    "\n",
    "JavaScript - язык программирования, который может выполнятся на стороне пользователя с помощью браузера и является основным для управления элементами веб-страницы.\n",
    "\n",
    "JavaScript часто сокращают до аббревиатуры JS.\n",
    "\n",
    "JavaScript как название является зарегистрированной торговой маркой и принадлежит компании ORACLE.\n",
    "\n",
    "JavaScript имеет синтаксис схожий с языком Си, однако имеет ряд существенных отличий:\n",
    "\n",
    "* Возможность работы с объектами, в том числе определение типа и структуры объекта во время выполнения программы\n",
    "* Возможность передавать и возвращать функции как параметры, а также присваивать их переменной\n",
    "* Наличие механизма автоматического приведения типов\n",
    "* Автоматическая сборка мусора\n",
    "* Использование анонимных функций"
   ]
  },
  {
   "cell_type": "markdown",
   "metadata": {},
   "source": [
    "Внедрение кода JavaScript в документ HTML можно выполнить двумя способами:\n",
    "\n",
    "1. Размещение кода непосредственно в HTML-файле\n",
    "2. Размещение кода в отдельном файле"
   ]
  },
  {
   "cell_type": "markdown",
   "metadata": {},
   "source": [
    "При размещении кода внутри HTML-файла код JavaScript обрамляется тэгом `<script>`, пример:\n"
   ]
  },
  {
   "cell_type": "code",
   "execution_count": null,
   "metadata": {
    "dotnet_interactive": {
     "language": "html"
    },
    "vscode": {
     "languageId": "dotnet-interactive.html"
    }
   },
   "outputs": [],
   "source": [
    "#!html\n",
    "<html>\n",
    "  <head>\n",
    "    <title>Страница с примером кода JavaScript</title>\n",
    "    <script>\n",
    "      alert(\"Hello World!\");\n",
    "    </script>\n",
    "  </head>\n",
    "  <body>\n",
    "    Это текст основной страницы\n",
    "  </body>\n",
    "</html>"
   ]
  },
  {
   "cell_type": "markdown",
   "metadata": {},
   "source": [
    "При размещении JavaScript-кода в отдельном файле, создадим файл с названием `myscript.js` и поместим в него код:"
   ]
  },
  {
   "cell_type": "code",
   "execution_count": null,
   "metadata": {
    "dotnet_interactive": {
     "language": "javascript"
    },
    "vscode": {
     "languageId": "dotnet-interactive.javascript"
    }
   },
   "outputs": [],
   "source": [
    "#!javascript\n",
    "alert(\"Hello World!\");"
   ]
  },
  {
   "cell_type": "markdown",
   "metadata": {
    "dotnet_interactive": {
     "language": "html"
    }
   },
   "source": [
    "А вызов кода из тела основного HTML-файла теперь будет выглядеть вот так:"
   ]
  },
  {
   "cell_type": "code",
   "execution_count": null,
   "metadata": {
    "dotnet_interactive": {
     "language": "html"
    },
    "vscode": {
     "languageId": "dotnet-interactive.html"
    }
   },
   "outputs": [],
   "source": [
    "#!html\n",
    "<html>\n",
    "  <head>\n",
    "    <title>Страница с примером кода JavaScript</title> \n",
    "    <script src=\"./myscript.js\"></script>\n",
    "  </head> \n",
    "  <body>\n",
    "    Это текст основной страницы\n",
    "  </body> \n",
    "</html>"
   ]
  }
 ],
 "metadata": {
  "kernelspec": {
   "display_name": ".NET (C#)",
   "language": "C#",
   "name": ".net-csharp"
  },
  "language_info": {
   "file_extension": ".cs",
   "mimetype": "text/x-csharp",
   "name": "C#",
   "pygments_lexer": "csharp",
   "version": "9.0"
  }
 },
 "nbformat": 4,
 "nbformat_minor": 4
}
