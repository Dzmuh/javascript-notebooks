{
 "cells": [
  {
   "cell_type": "markdown",
   "source": [
    "# Введение в JavaScript\n",
    "\n",
    "JavaScript - язык программирования, который может выполнятся на стороне пользователя с помощью браузера и является основным для управления элементами веб-страницы.\n",
    "\n",
    "JavaScript часто сокращают до аббревиатуры JS.\n",
    "\n",
    "JavaScript как название является зарегистрированной торговой маркой и принадлежит компании ORACLE.\n",
    "\n",
    "JavaScript имеет синтаксис схожий с языком Си, однако имеет ряд существенных отличий:\n",
    "\n",
    "* Возможность работы с объектами, в том числе определение типа и структуры объекта во время выполнения программы\n",
    "* Возможность передавать и возвращать функции как параметры, а также присваивать их переменной\n",
    "* Наличие механизма автоматического приведения типов\n",
    "* Автоматическая сборка мусора\n",
    "* Использование анонимных функций"
   ],
   "metadata": {}
  },
  {
   "cell_type": "markdown",
   "source": [
    "Внедрение кода JavaScript в документ HTML можно выполнить двумя способами:\n",
    "\n",
    "1. Размещение кода непосредственно в HTML-файле\n",
    "2. Размещение кода в отдельном файле"
   ],
   "metadata": {}
  },
  {
   "cell_type": "markdown",
   "source": [
    "При размещении кода внутри HTML-файла код JavaScript обрамляется тэгом `<script>`, пример:\n"
   ],
   "metadata": {}
  },
  {
   "cell_type": "code",
   "execution_count": null,
   "source": [
    "<html>\r\n",
    " <head>\r\n",
    "  <title>Страница с примером кода JavaScript</title>\r\n",
    "  <script>\r\n",
    "   alert(\"Hello World!\");\r\n",
    "  </script>\r\n",
    " </head>\r\n",
    " <body>\r\n",
    "  Это текст основной страницы\r\n",
    " </body>\r\n",
    "</html>"
   ],
   "outputs": [],
   "metadata": {
    "dotnet_interactive": {
     "language": "html"
    }
   }
  },
  {
   "cell_type": "markdown",
   "source": [
    "При размещении JavaScript-кода в отдельном файле, создадим файл с названием `myscript.js` и поместим в него код:"
   ],
   "metadata": {}
  },
  {
   "cell_type": "code",
   "execution_count": null,
   "source": [
    "alert(\"Hello World!\");"
   ],
   "outputs": [],
   "metadata": {
    "dotnet_interactive": {
     "language": "javascript"
    }
   }
  },
  {
   "cell_type": "markdown",
   "source": [
    "А вызов кода из тела основного HTML-файла теперь будет выглядеть вот так:"
   ],
   "metadata": {
    "dotnet_interactive": {
     "language": "html"
    }
   }
  },
  {
   "cell_type": "code",
   "execution_count": null,
   "source": [
    "<html>\r\n",
    "  <head>\r\n",
    "    <title>Страница с примером кода JavaScript</title> \r\n",
    "    <script src=\"./myscript.js\"></script>\r\n",
    "  </head> \r\n",
    "  <body>\r\n",
    "    Это текст основной страницы\r\n",
    "  </body> \r\n",
    "</html>"
   ],
   "outputs": [],
   "metadata": {
    "dotnet_interactive": {
     "language": "html"
    }
   }
  }
 ],
 "metadata": {
  "kernelspec": {
   "display_name": ".NET (C#)",
   "language": "C#",
   "name": ".net-csharp"
  },
  "language_info": {
   "file_extension": ".cs",
   "mimetype": "text/x-csharp",
   "name": "C#",
   "pygments_lexer": "csharp",
   "version": "9.0"
  }
 },
 "nbformat": 4,
 "nbformat_minor": 4
}