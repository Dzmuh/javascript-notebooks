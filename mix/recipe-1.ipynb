{
 "cells": [
  {
   "cell_type": "markdown",
   "metadata": {},
   "source": [
    "# Что выведет код?"
   ]
  },
  {
   "cell_type": "code",
   "execution_count": null,
   "metadata": {
    "dotnet_interactive": {
     "language": "javascript"
    },
    "polyglot_notebook": {
     "kernelName": "javascript"
    },
    "vscode": {
     "languageId": "polyglot-notebook"
    }
   },
   "outputs": [],
   "source": [
    "const value = { number: 10 };\n",
    "\n",
    "const multiply = ( x = { ...value }) => {\n",
    "    console.log((x.number *= 2));\n",
    "};\n",
    "\n",
    "multiply();\n",
    "multiply();\n",
    "multiply(value);\n",
    "multiply(value);"
   ]
  },
  {
   "cell_type": "markdown",
   "metadata": {},
   "source": [
    "Варианты правильного ответа:\n",
    "\n",
    "- 20 40 80 160\n",
    "- 20 40 20 40\n",
    "- 20 20 20 40\n",
    "- NaN NaN 20 40\n"
   ]
  }
 ],
 "metadata": {
  "kernelspec": {
   "display_name": ".NET (C#)",
   "language": "C#",
   "name": ".net-csharp"
  },
  "language_info": {
   "name": "csharp"
  },
  "polyglot_notebook": {
   "kernelInfo": {
    "defaultKernelName": "csharp",
    "items": [
     {
      "aliases": [],
      "name": "csharp"
     }
    ]
   }
  }
 },
 "nbformat": 4,
 "nbformat_minor": 2
}
